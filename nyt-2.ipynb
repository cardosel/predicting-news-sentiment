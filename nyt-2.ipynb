{
 "cells": [
  {
   "cell_type": "code",
   "execution_count": 101,
   "metadata": {},
   "outputs": [],
   "source": [
    "import pandas as pd\n",
    "import json"
   ]
  },
  {
   "cell_type": "code",
   "execution_count": 102,
   "metadata": {},
   "outputs": [],
   "source": [
    "lines = []\n",
    "for line in open('homework.json', 'r'):\n",
    "    lines.append(json.loads(line))"
   ]
  },
  {
   "cell_type": "code",
   "execution_count": 103,
   "metadata": {},
   "outputs": [],
   "source": [
    "data = pd.DataFrame(lines)"
   ]
  },
  {
   "cell_type": "code",
   "execution_count": 104,
   "metadata": {},
   "outputs": [
    {
     "data": {
      "text/html": [
       "<div>\n",
       "<style scoped>\n",
       "    .dataframe tbody tr th:only-of-type {\n",
       "        vertical-align: middle;\n",
       "    }\n",
       "\n",
       "    .dataframe tbody tr th {\n",
       "        vertical-align: top;\n",
       "    }\n",
       "\n",
       "    .dataframe thead th {\n",
       "        text-align: right;\n",
       "    }\n",
       "</style>\n",
       "<table border=\"1\" class=\"dataframe\">\n",
       "  <thead>\n",
       "    <tr style=\"text-align: right;\">\n",
       "      <th></th>\n",
       "      <th>emotion_0</th>\n",
       "      <th>emotion_1</th>\n",
       "      <th>emotion_2</th>\n",
       "      <th>emotion_3</th>\n",
       "      <th>emotion_4</th>\n",
       "      <th>emotion_5</th>\n",
       "      <th>emotion_6</th>\n",
       "      <th>emotion_7</th>\n",
       "      <th>emotion_8</th>\n",
       "      <th>emotion_9</th>\n",
       "      <th>headline</th>\n",
       "      <th>summary</th>\n",
       "      <th>worker_id</th>\n",
       "    </tr>\n",
       "  </thead>\n",
       "  <tbody>\n",
       "    <tr>\n",
       "      <th>0</th>\n",
       "      <td>0.0</td>\n",
       "      <td>0.0</td>\n",
       "      <td>0.0</td>\n",
       "      <td>0.0</td>\n",
       "      <td>0.0</td>\n",
       "      <td>1.0</td>\n",
       "      <td>0.0</td>\n",
       "      <td>0.0</td>\n",
       "      <td>0.0</td>\n",
       "      <td>1</td>\n",
       "      <td>Parenting Lessons From a Partial Eclipse</td>\n",
       "      <td>I don’t do partiality. Maybe it was finally ti...</td>\n",
       "      <td>95524929</td>\n",
       "    </tr>\n",
       "    <tr>\n",
       "      <th>1</th>\n",
       "      <td>0.0</td>\n",
       "      <td>0.0</td>\n",
       "      <td>0.0</td>\n",
       "      <td>0.0</td>\n",
       "      <td>0.0</td>\n",
       "      <td>1.0</td>\n",
       "      <td>0.0</td>\n",
       "      <td>0.0</td>\n",
       "      <td>0.0</td>\n",
       "      <td>1</td>\n",
       "      <td>On Catalonia</td>\n",
       "      <td>Catalan lawmakers declared independence from S...</td>\n",
       "      <td>30266977</td>\n",
       "    </tr>\n",
       "    <tr>\n",
       "      <th>2</th>\n",
       "      <td>0.0</td>\n",
       "      <td>0.0</td>\n",
       "      <td>-2</td>\n",
       "      <td>0.0</td>\n",
       "      <td>0.0</td>\n",
       "      <td>0.0</td>\n",
       "      <td>0.0</td>\n",
       "      <td>0.0</td>\n",
       "      <td>0.0</td>\n",
       "      <td>1</td>\n",
       "      <td>A Spark of Romance Under Fluorescent Lighting</td>\n",
       "      <td>Rose Burlingham, an art dealer and writer, mar...</td>\n",
       "      <td>54197764</td>\n",
       "    </tr>\n",
       "    <tr>\n",
       "      <th>3</th>\n",
       "      <td>0.0</td>\n",
       "      <td>1.0</td>\n",
       "      <td>0.0</td>\n",
       "      <td>1.0</td>\n",
       "      <td>0.0</td>\n",
       "      <td>1.0</td>\n",
       "      <td>0.0</td>\n",
       "      <td>1.0</td>\n",
       "      <td>0.0</td>\n",
       "      <td>1</td>\n",
       "      <td>Apple Removes Apps From China Store That Help ...</td>\n",
       "      <td>The world’s most valuable company appears to h...</td>\n",
       "      <td>41177265</td>\n",
       "    </tr>\n",
       "    <tr>\n",
       "      <th>4</th>\n",
       "      <td>0.0</td>\n",
       "      <td>0.0</td>\n",
       "      <td>0.0</td>\n",
       "      <td>0.0</td>\n",
       "      <td>0.0</td>\n",
       "      <td>1.0</td>\n",
       "      <td>0.0</td>\n",
       "      <td>0.0</td>\n",
       "      <td>0.0</td>\n",
       "      <td>1</td>\n",
       "      <td>Commerce Secretary’s Offshore Ties to Putin ‘C...</td>\n",
       "      <td>Wilbur Ross, the commerce secretary, retained ...</td>\n",
       "      <td>56518865</td>\n",
       "    </tr>\n",
       "  </tbody>\n",
       "</table>\n",
       "</div>"
      ],
      "text/plain": [
       "  emotion_0 emotion_1 emotion_2 emotion_3 emotion_4 emotion_5 emotion_6  \\\n",
       "0       0.0       0.0       0.0       0.0       0.0       1.0       0.0   \n",
       "1       0.0       0.0       0.0       0.0       0.0       1.0       0.0   \n",
       "2       0.0       0.0        -2       0.0       0.0       0.0       0.0   \n",
       "3       0.0       1.0       0.0       1.0       0.0       1.0       0.0   \n",
       "4       0.0       0.0       0.0       0.0       0.0       1.0       0.0   \n",
       "\n",
       "  emotion_7 emotion_8 emotion_9  \\\n",
       "0       0.0       0.0         1   \n",
       "1       0.0       0.0         1   \n",
       "2       0.0       0.0         1   \n",
       "3       1.0       0.0         1   \n",
       "4       0.0       0.0         1   \n",
       "\n",
       "                                            headline  \\\n",
       "0           Parenting Lessons From a Partial Eclipse   \n",
       "1                                       On Catalonia   \n",
       "2      A Spark of Romance Under Fluorescent Lighting   \n",
       "3  Apple Removes Apps From China Store That Help ...   \n",
       "4  Commerce Secretary’s Offshore Ties to Putin ‘C...   \n",
       "\n",
       "                                             summary worker_id  \n",
       "0  I don’t do partiality. Maybe it was finally ti...  95524929  \n",
       "1  Catalan lawmakers declared independence from S...  30266977  \n",
       "2  Rose Burlingham, an art dealer and writer, mar...  54197764  \n",
       "3  The world’s most valuable company appears to h...  41177265  \n",
       "4  Wilbur Ross, the commerce secretary, retained ...  56518865  "
      ]
     },
     "execution_count": 104,
     "metadata": {},
     "output_type": "execute_result"
    }
   ],
   "source": [
    "data.head()"
   ]
  },
  {
   "cell_type": "code",
   "execution_count": 106,
   "metadata": {},
   "outputs": [
    {
     "data": {
      "text/plain": [
       "emotion_0    0\n",
       "emotion_1    0\n",
       "emotion_2    0\n",
       "emotion_3    0\n",
       "emotion_4    0\n",
       "emotion_5    0\n",
       "emotion_6    0\n",
       "emotion_7    0\n",
       "emotion_8    0\n",
       "emotion_9    0\n",
       "headline     0\n",
       "summary      0\n",
       "worker_id    0\n",
       "dtype: int64"
      ]
     },
     "execution_count": 106,
     "metadata": {},
     "output_type": "execute_result"
    }
   ],
   "source": [
    "data.isnull().sum()"
   ]
  },
  {
   "cell_type": "code",
   "execution_count": 11,
   "metadata": {},
   "outputs": [
    {
     "data": {
      "text/plain": [
       "(93758, 13)"
      ]
     },
     "execution_count": 11,
     "metadata": {},
     "output_type": "execute_result"
    }
   ],
   "source": [
    "data.shape"
   ]
  },
  {
   "cell_type": "code",
   "execution_count": 105,
   "metadata": {},
   "outputs": [],
   "source": [
    "# drop nulls from the data\n",
    "data = data.dropna()"
   ]
  },
  {
   "cell_type": "code",
   "execution_count": null,
   "metadata": {},
   "outputs": [],
   "source": [
    "# value counts for each column\n",
    "for c in data.columns:\n",
    "    print \"---- %s ---\" % c\n",
    "    print data[c].value_counts()"
   ]
  },
  {
   "cell_type": "code",
   "execution_count": 108,
   "metadata": {},
   "outputs": [],
   "source": [
    "# get rid of any string values\n",
    "\n",
    "data['emotion_0'] = data['emotion_0'].apply(lambda x: \"0.0\" if 'cat' in str(x) else(\"0.0\" if 'fnord' in str(x) else x)) \n",
    "data['emotion_1'] = data['emotion_1'].apply(lambda x: \"0.0\" if 'cat' in str(x) else(\"0.0\" if 'fnord' in str(x) else x)) \n",
    "data['emotion_2'] = data['emotion_2'].apply(lambda x: \"0.0\" if 'cat' in str(x) else(\"0.0\" if 'fnord' in str(x) else x)) \n",
    "data['emotion_3'] = data['emotion_3'].apply(lambda x: \"0.0\" if 'cat' in str(x) else(\"0.0\" if 'fnord' in str(x) else x)) \n",
    "data['emotion_4'] = data['emotion_4'].apply(lambda x: \"0.0\" if 'cat' in str(x) else(\"0.0\" if 'fnord' in str(x) else x)) \n",
    "data['emotion_5'] = data['emotion_5'].apply(lambda x: \"0.0\" if 'cat' in str(x) else(\"0.0\" if 'fnord' in str(x) else x)) \n",
    "data['emotion_6'] = data['emotion_6'].apply(lambda x: \"0.0\" if 'cat' in str(x) else(\"0.0\" if 'fnord' in str(x) else x)) \n",
    "data['emotion_7'] = data['emotion_7'].apply(lambda x: \"0.0\" if 'cat' in str(x) else(\"0.0\" if 'fnord' in str(x) else x)) \n",
    "data['emotion_8'] = data['emotion_8'].apply(lambda x: \"0.0\" if 'cat' in str(x) else(\"0.0\" if 'fnord' in str(x) else x)) \n",
    "data['emotion_9'] = data['emotion_9'].apply(lambda x: \"0.0\" if 'cat' in str(x) else(\"0.0\" if 'fnord' in str(x) else x)) "
   ]
  },
  {
   "cell_type": "code",
   "execution_count": 109,
   "metadata": {},
   "outputs": [],
   "source": [
    "data.iloc[:,0:10] = data.iloc[:,0:10].astype(\"float\")"
   ]
  },
  {
   "cell_type": "code",
   "execution_count": null,
   "metadata": {},
   "outputs": [],
   "source": [
    "# boilerplate code for forming bag of words vectors from headlines\n",
    "import nltk\n",
    "import numpy\n",
    "import re\n",
    "from nltk.corpus import stopwords\n",
    "set(stopwords.words('english'))\n",
    "\n",
    "BoW = []\n",
    "def tokenize(sentences):\n",
    "    words = []\n",
    "    for sentence in sentences:\n",
    "        w = word_extraction(sentence)\n",
    "        words.extend(w)\n",
    "        \n",
    "    words = sorted(list(set(words)))\n",
    "    return words\n",
    "\n",
    "def word_extraction(sentence):\n",
    "    ignore = ['a', \"the\", \"is\"]\n",
    "    words = re.sub(\"[^\\w]\", \" \",  sentence).split()\n",
    "    cleaned_text = [w.lower() for w in words if w not in ignore]\n",
    "    return cleaned_text    \n",
    "    \n",
    "def generate_bow(allsentences):    \n",
    "    vocab = tokenize(allsentences)\n",
    "    print(\"Word List for Document \\n{0} \\n\".format(vocab));\n",
    "\n",
    "    for sentence in allsentences:\n",
    "        words = word_extraction(sentence)\n",
    "        bag_vector = numpy.zeros(len(vocab))\n",
    "        for w in words:\n",
    "            for i,word in enumerate(vocab):\n",
    "                if word == w: \n",
    "                    bag_vector[i] += 1\n",
    "                    \n",
    "        print(\"{0} \\n{1}\\n\".format(sentence,numpy.array(bag_vector)))\n",
    "        BoW.append(numpy.array(bag_vector))\n",
    "        \n",
    "    \n",
    "allsentences = data.headline.str.encode('utf-8').sample(1000)\n",
    "\n",
    "generate_bow(allsentences)"
   ]
  },
  {
   "cell_type": "code",
   "execution_count": 111,
   "metadata": {},
   "outputs": [],
   "source": [
    "vocab = tokenize(allsentences)"
   ]
  },
  {
   "cell_type": "code",
   "execution_count": null,
   "metadata": {},
   "outputs": [],
   "source": [
    "for i, voc in enumerate(vocab):\n",
    "    print i, voc"
   ]
  },
  {
   "cell_type": "code",
   "execution_count": 112,
   "metadata": {},
   "outputs": [],
   "source": [
    "bow_df = pd.DataFrame(BoW)"
   ]
  },
  {
   "cell_type": "code",
   "execution_count": null,
   "metadata": {},
   "outputs": [],
   "source": [
    "bow_w_headlines = pd.concat([allsentences.reset_index(), bow_df], axis=1)\n",
    "bow_w_headlines2 = bow_w_headlines.merge(data, on='headline', how='left')\n",
    "bow_w_headlines2 = bow_w_headlines2.dropna()"
   ]
  },
  {
   "cell_type": "code",
   "execution_count": 114,
   "metadata": {},
   "outputs": [
    {
     "data": {
      "text/html": [
       "<div>\n",
       "<style scoped>\n",
       "    .dataframe tbody tr th:only-of-type {\n",
       "        vertical-align: middle;\n",
       "    }\n",
       "\n",
       "    .dataframe tbody tr th {\n",
       "        vertical-align: top;\n",
       "    }\n",
       "\n",
       "    .dataframe thead th {\n",
       "        text-align: right;\n",
       "    }\n",
       "</style>\n",
       "<table border=\"1\" class=\"dataframe\">\n",
       "  <thead>\n",
       "    <tr style=\"text-align: right;\">\n",
       "      <th></th>\n",
       "      <th>index</th>\n",
       "      <th>headline</th>\n",
       "    </tr>\n",
       "  </thead>\n",
       "  <tbody>\n",
       "    <tr>\n",
       "      <th>0</th>\n",
       "      <td>77934</td>\n",
       "      <td>Hugh Freeze Abruptly Resigns as Ole Miss Footb...</td>\n",
       "    </tr>\n",
       "    <tr>\n",
       "      <th>1</th>\n",
       "      <td>36043</td>\n",
       "      <td>These Americans Hated the Health Law. Until th...</td>\n",
       "    </tr>\n",
       "    <tr>\n",
       "      <th>2</th>\n",
       "      <td>87375</td>\n",
       "      <td>Australia, Apple, Minnesota: Your Thursday Bri...</td>\n",
       "    </tr>\n",
       "    <tr>\n",
       "      <th>3</th>\n",
       "      <td>16131</td>\n",
       "      <td>Yankees, Peeking at the Red Sox, Will Soon Get...</td>\n",
       "    </tr>\n",
       "    <tr>\n",
       "      <th>4</th>\n",
       "      <td>64344</td>\n",
       "      <td>Trump Lawyer ‘Vehemently’ Denies Russian Collu...</td>\n",
       "    </tr>\n",
       "  </tbody>\n",
       "</table>\n",
       "</div>"
      ],
      "text/plain": [
       "   index                                           headline\n",
       "0  77934  Hugh Freeze Abruptly Resigns as Ole Miss Footb...\n",
       "1  36043  These Americans Hated the Health Law. Until th...\n",
       "2  87375  Australia, Apple, Minnesota: Your Thursday Bri...\n",
       "3  16131  Yankees, Peeking at the Red Sox, Will Soon Get...\n",
       "4  64344  Trump Lawyer ‘Vehemently’ Denies Russian Collu..."
      ]
     },
     "execution_count": 114,
     "metadata": {},
     "output_type": "execute_result"
    }
   ],
   "source": [
    "allsentences.reset_index().head()"
   ]
  },
  {
   "cell_type": "code",
   "execution_count": 135,
   "metadata": {},
   "outputs": [],
   "source": [
    "bowshape = bow_w_headlines2.shape[1]\n",
    "\n",
    "bow_w_headlines2.iloc[:,2:bowshape-2].head()\n",
    "bow_w_headlines2.iloc[:,2:bowshape-2] = bow_w_headlines2.iloc[:,2:bowshape-2].astype(\"float\")\n",
    "\n",
    "bow_w_headlines_ft_matrix = bow_w_headlines2.groupby('headline').mean().reset_index()"
   ]
  },
  {
   "cell_type": "code",
   "execution_count": null,
   "metadata": {},
   "outputs": [],
   "source": [
    "bow_w_headlines_ft_matrix = bow_w_headlines2.groupby('headline').mean().reset_index()"
   ]
  },
  {
   "cell_type": "code",
   "execution_count": 31,
   "metadata": {},
   "outputs": [
    {
     "data": {
      "text/html": [
       "<div>\n",
       "<style scoped>\n",
       "    .dataframe tbody tr th:only-of-type {\n",
       "        vertical-align: middle;\n",
       "    }\n",
       "\n",
       "    .dataframe tbody tr th {\n",
       "        vertical-align: top;\n",
       "    }\n",
       "\n",
       "    .dataframe thead th {\n",
       "        text-align: right;\n",
       "    }\n",
       "</style>\n",
       "<table border=\"1\" class=\"dataframe\">\n",
       "  <thead>\n",
       "    <tr style=\"text-align: right;\">\n",
       "      <th></th>\n",
       "      <th>0</th>\n",
       "      <th>1</th>\n",
       "      <th>2</th>\n",
       "      <th>3</th>\n",
       "      <th>4</th>\n",
       "      <th>5</th>\n",
       "      <th>6</th>\n",
       "      <th>7</th>\n",
       "      <th>8</th>\n",
       "      <th>9</th>\n",
       "      <th>...</th>\n",
       "      <th>3339</th>\n",
       "      <th>3340</th>\n",
       "      <th>3341</th>\n",
       "      <th>3342</th>\n",
       "      <th>3343</th>\n",
       "      <th>3344</th>\n",
       "      <th>3345</th>\n",
       "      <th>3346</th>\n",
       "      <th>3347</th>\n",
       "      <th>3348</th>\n",
       "    </tr>\n",
       "  </thead>\n",
       "  <tbody>\n",
       "    <tr>\n",
       "      <th>0</th>\n",
       "      <td>0.0</td>\n",
       "      <td>0.0</td>\n",
       "      <td>0.0</td>\n",
       "      <td>0.0</td>\n",
       "      <td>0.0</td>\n",
       "      <td>0.0</td>\n",
       "      <td>0.0</td>\n",
       "      <td>0.0</td>\n",
       "      <td>0.0</td>\n",
       "      <td>0.0</td>\n",
       "      <td>...</td>\n",
       "      <td>0.0</td>\n",
       "      <td>0.0</td>\n",
       "      <td>0.0</td>\n",
       "      <td>0.0</td>\n",
       "      <td>0.0</td>\n",
       "      <td>0.0</td>\n",
       "      <td>0.0</td>\n",
       "      <td>0.0</td>\n",
       "      <td>0.0</td>\n",
       "      <td>0.0</td>\n",
       "    </tr>\n",
       "    <tr>\n",
       "      <th>1</th>\n",
       "      <td>0.0</td>\n",
       "      <td>1.0</td>\n",
       "      <td>0.0</td>\n",
       "      <td>0.0</td>\n",
       "      <td>0.0</td>\n",
       "      <td>0.0</td>\n",
       "      <td>0.0</td>\n",
       "      <td>0.0</td>\n",
       "      <td>0.0</td>\n",
       "      <td>0.0</td>\n",
       "      <td>...</td>\n",
       "      <td>0.0</td>\n",
       "      <td>0.0</td>\n",
       "      <td>0.0</td>\n",
       "      <td>0.0</td>\n",
       "      <td>0.0</td>\n",
       "      <td>0.0</td>\n",
       "      <td>0.0</td>\n",
       "      <td>0.0</td>\n",
       "      <td>0.0</td>\n",
       "      <td>0.0</td>\n",
       "    </tr>\n",
       "    <tr>\n",
       "      <th>2</th>\n",
       "      <td>0.0</td>\n",
       "      <td>1.0</td>\n",
       "      <td>0.0</td>\n",
       "      <td>0.0</td>\n",
       "      <td>0.0</td>\n",
       "      <td>0.0</td>\n",
       "      <td>0.0</td>\n",
       "      <td>0.0</td>\n",
       "      <td>0.0</td>\n",
       "      <td>0.0</td>\n",
       "      <td>...</td>\n",
       "      <td>0.0</td>\n",
       "      <td>0.0</td>\n",
       "      <td>0.0</td>\n",
       "      <td>0.0</td>\n",
       "      <td>0.0</td>\n",
       "      <td>0.0</td>\n",
       "      <td>0.0</td>\n",
       "      <td>0.0</td>\n",
       "      <td>0.0</td>\n",
       "      <td>0.0</td>\n",
       "    </tr>\n",
       "    <tr>\n",
       "      <th>3</th>\n",
       "      <td>0.0</td>\n",
       "      <td>0.0</td>\n",
       "      <td>0.0</td>\n",
       "      <td>0.0</td>\n",
       "      <td>0.0</td>\n",
       "      <td>0.0</td>\n",
       "      <td>0.0</td>\n",
       "      <td>0.0</td>\n",
       "      <td>0.0</td>\n",
       "      <td>0.0</td>\n",
       "      <td>...</td>\n",
       "      <td>0.0</td>\n",
       "      <td>0.0</td>\n",
       "      <td>0.0</td>\n",
       "      <td>0.0</td>\n",
       "      <td>0.0</td>\n",
       "      <td>0.0</td>\n",
       "      <td>0.0</td>\n",
       "      <td>0.0</td>\n",
       "      <td>0.0</td>\n",
       "      <td>0.0</td>\n",
       "    </tr>\n",
       "    <tr>\n",
       "      <th>4</th>\n",
       "      <td>0.0</td>\n",
       "      <td>0.0</td>\n",
       "      <td>1.0</td>\n",
       "      <td>0.0</td>\n",
       "      <td>0.0</td>\n",
       "      <td>0.0</td>\n",
       "      <td>0.0</td>\n",
       "      <td>0.0</td>\n",
       "      <td>0.0</td>\n",
       "      <td>0.0</td>\n",
       "      <td>...</td>\n",
       "      <td>0.0</td>\n",
       "      <td>0.0</td>\n",
       "      <td>0.0</td>\n",
       "      <td>0.0</td>\n",
       "      <td>0.0</td>\n",
       "      <td>0.0</td>\n",
       "      <td>0.0</td>\n",
       "      <td>0.0</td>\n",
       "      <td>0.0</td>\n",
       "      <td>0.0</td>\n",
       "    </tr>\n",
       "  </tbody>\n",
       "</table>\n",
       "<p>5 rows × 3349 columns</p>\n",
       "</div>"
      ],
      "text/plain": [
       "   0     1     2     3     4     5     6     7     8     9     ...  3339  \\\n",
       "0   0.0   0.0   0.0   0.0   0.0   0.0   0.0   0.0   0.0   0.0  ...   0.0   \n",
       "1   0.0   1.0   0.0   0.0   0.0   0.0   0.0   0.0   0.0   0.0  ...   0.0   \n",
       "2   0.0   1.0   0.0   0.0   0.0   0.0   0.0   0.0   0.0   0.0  ...   0.0   \n",
       "3   0.0   0.0   0.0   0.0   0.0   0.0   0.0   0.0   0.0   0.0  ...   0.0   \n",
       "4   0.0   0.0   1.0   0.0   0.0   0.0   0.0   0.0   0.0   0.0  ...   0.0   \n",
       "\n",
       "   3340  3341  3342  3343  3344  3345  3346  3347  3348  \n",
       "0   0.0   0.0   0.0   0.0   0.0   0.0   0.0   0.0   0.0  \n",
       "1   0.0   0.0   0.0   0.0   0.0   0.0   0.0   0.0   0.0  \n",
       "2   0.0   0.0   0.0   0.0   0.0   0.0   0.0   0.0   0.0  \n",
       "3   0.0   0.0   0.0   0.0   0.0   0.0   0.0   0.0   0.0  \n",
       "4   0.0   0.0   0.0   0.0   0.0   0.0   0.0   0.0   0.0  \n",
       "\n",
       "[5 rows x 3349 columns]"
      ]
     },
     "execution_count": 31,
     "metadata": {},
     "output_type": "execute_result"
    }
   ],
   "source": [
    "bow_w_headlines_ft_matrix.iloc[:,2:3351].head()\n"
   ]
  },
  {
   "cell_type": "code",
   "execution_count": 100,
   "metadata": {},
   "outputs": [
    {
     "data": {
      "text/html": [
       "<div>\n",
       "<style scoped>\n",
       "    .dataframe tbody tr th:only-of-type {\n",
       "        vertical-align: middle;\n",
       "    }\n",
       "\n",
       "    .dataframe tbody tr th {\n",
       "        vertical-align: top;\n",
       "    }\n",
       "\n",
       "    .dataframe thead th {\n",
       "        text-align: right;\n",
       "    }\n",
       "</style>\n",
       "<table border=\"1\" class=\"dataframe\">\n",
       "  <thead>\n",
       "    <tr style=\"text-align: right;\">\n",
       "      <th></th>\n",
       "      <th>emotion_0</th>\n",
       "      <th>emotion_1</th>\n",
       "      <th>emotion_2</th>\n",
       "      <th>emotion_3</th>\n",
       "      <th>emotion_4</th>\n",
       "      <th>emotion_5</th>\n",
       "      <th>emotion_6</th>\n",
       "      <th>emotion_7</th>\n",
       "      <th>emotion_8</th>\n",
       "      <th>emotion_9</th>\n",
       "    </tr>\n",
       "  </thead>\n",
       "  <tbody>\n",
       "    <tr>\n",
       "      <th>0</th>\n",
       "      <td>0.108108</td>\n",
       "      <td>0.091892</td>\n",
       "      <td>0.070270</td>\n",
       "      <td>0.048649</td>\n",
       "      <td>0.113514</td>\n",
       "      <td>0.383784</td>\n",
       "      <td>0.027027</td>\n",
       "      <td>0.172973</td>\n",
       "      <td>0.216216</td>\n",
       "      <td>0.983784</td>\n",
       "    </tr>\n",
       "    <tr>\n",
       "      <th>1</th>\n",
       "      <td>0.111111</td>\n",
       "      <td>0.000000</td>\n",
       "      <td>0.000000</td>\n",
       "      <td>0.000000</td>\n",
       "      <td>0.111111</td>\n",
       "      <td>0.333333</td>\n",
       "      <td>0.000000</td>\n",
       "      <td>0.000000</td>\n",
       "      <td>0.555556</td>\n",
       "      <td>1.000000</td>\n",
       "    </tr>\n",
       "    <tr>\n",
       "      <th>2</th>\n",
       "      <td>0.070175</td>\n",
       "      <td>0.100877</td>\n",
       "      <td>0.070175</td>\n",
       "      <td>0.039474</td>\n",
       "      <td>0.061404</td>\n",
       "      <td>0.385965</td>\n",
       "      <td>0.039474</td>\n",
       "      <td>0.122807</td>\n",
       "      <td>0.267544</td>\n",
       "      <td>0.982456</td>\n",
       "    </tr>\n",
       "    <tr>\n",
       "      <th>3</th>\n",
       "      <td>0.089286</td>\n",
       "      <td>0.107143</td>\n",
       "      <td>0.023810</td>\n",
       "      <td>0.059524</td>\n",
       "      <td>0.119048</td>\n",
       "      <td>0.428571</td>\n",
       "      <td>0.000000</td>\n",
       "      <td>0.125000</td>\n",
       "      <td>0.184524</td>\n",
       "      <td>0.994048</td>\n",
       "    </tr>\n",
       "    <tr>\n",
       "      <th>4</th>\n",
       "      <td>0.128440</td>\n",
       "      <td>0.000000</td>\n",
       "      <td>0.091743</td>\n",
       "      <td>0.009174</td>\n",
       "      <td>0.027523</td>\n",
       "      <td>0.660550</td>\n",
       "      <td>0.000000</td>\n",
       "      <td>0.000000</td>\n",
       "      <td>0.155963</td>\n",
       "      <td>0.972477</td>\n",
       "    </tr>\n",
       "  </tbody>\n",
       "</table>\n",
       "</div>"
      ],
      "text/plain": [
       "   emotion_0  emotion_1  emotion_2  emotion_3  emotion_4  emotion_5  \\\n",
       "0   0.108108   0.091892   0.070270   0.048649   0.113514   0.383784   \n",
       "1   0.111111   0.000000   0.000000   0.000000   0.111111   0.333333   \n",
       "2   0.070175   0.100877   0.070175   0.039474   0.061404   0.385965   \n",
       "3   0.089286   0.107143   0.023810   0.059524   0.119048   0.428571   \n",
       "4   0.128440   0.000000   0.091743   0.009174   0.027523   0.660550   \n",
       "\n",
       "   emotion_6  emotion_7  emotion_8  emotion_9  \n",
       "0   0.027027   0.172973   0.216216   0.983784  \n",
       "1   0.000000   0.000000   0.555556   1.000000  \n",
       "2   0.039474   0.122807   0.267544   0.982456  \n",
       "3   0.000000   0.125000   0.184524   0.994048  \n",
       "4   0.000000   0.000000   0.155963   0.972477  "
      ]
     },
     "execution_count": 100,
     "metadata": {},
     "output_type": "execute_result"
    }
   ],
   "source": [
    "bow_w_headlines_ft_matrix.iloc[:,bow_w_headlines_ft_matrix.shape[1]-10:bow_w_headlines_ft_matrix.shape[1]+10].head()"
   ]
  },
  {
   "cell_type": "code",
   "execution_count": 33,
   "metadata": {},
   "outputs": [],
   "source": [
    "bowshape = bow_w_headlines2.shape[1]\n",
    "X = bow_w_headlines_ft_matrix.iloc[:,2:bowshape-2-10]\n",
    "y = bow_w_headlines_ft_matrix.iloc[:,bowshape-2-10:bowshape-2]"
   ]
  },
  {
   "cell_type": "markdown",
   "metadata": {},
   "source": [
    "###  Baseline Predictions with Linear Regression Model"
   ]
  },
  {
   "cell_type": "code",
   "execution_count": 34,
   "metadata": {},
   "outputs": [],
   "source": [
    "from sklearn.model_selection import train_test_split\n",
    "\n",
    "# Split X and y into X_\n",
    "X_train, X_test, y_train, y_test = train_test_split(X, y, test_size=0.25, random_state=1)"
   ]
  },
  {
   "cell_type": "code",
   "execution_count": 35,
   "metadata": {},
   "outputs": [
    {
     "data": {
      "text/plain": [
       "LinearRegression(copy_X=True, fit_intercept=True, n_jobs=1, normalize=False)"
      ]
     },
     "execution_count": 35,
     "metadata": {},
     "output_type": "execute_result"
    }
   ],
   "source": [
    "from sklearn.linear_model import LinearRegression\n",
    "\n",
    "regression_model = LinearRegression()\n",
    "regression_model.fit(X_train, y_train)"
   ]
  },
  {
   "cell_type": "code",
   "execution_count": null,
   "metadata": {},
   "outputs": [],
   "source": [
    "# coefficients(\"tokens\") in bow dataset on regression model\n",
    "for idx, col_name in enumerate(X_train.columns):\n",
    "    print(\"The coefficient for {} is {}\".format(col_name, regression_model.coef_[0][idx]))"
   ]
  },
  {
   "cell_type": "code",
   "execution_count": 38,
   "metadata": {},
   "outputs": [
    {
     "name": "stdout",
     "output_type": "stream",
     "text": [
      "The intercept for our model is 0.105749969314\n"
     ]
    }
   ],
   "source": [
    "intercept = regression_model.intercept_[0]\n",
    "\n",
    "print(\"The intercept for our model is {}\".format(intercept))"
   ]
  },
  {
   "cell_type": "code",
   "execution_count": 39,
   "metadata": {},
   "outputs": [
    {
     "data": {
      "text/plain": [
       "-0.06679821932023658"
      ]
     },
     "execution_count": 39,
     "metadata": {},
     "output_type": "execute_result"
    }
   ],
   "source": [
    "regression_model.score(X_test, y_test)"
   ]
  },
  {
   "cell_type": "code",
   "execution_count": 40,
   "metadata": {},
   "outputs": [
    {
     "data": {
      "text/plain": [
       "0.02359541855770604"
      ]
     },
     "execution_count": 40,
     "metadata": {},
     "output_type": "execute_result"
    }
   ],
   "source": [
    "from sklearn.metrics import mean_squared_error\n",
    "\n",
    "y_predict = regression_model.predict(X_test)\n",
    "\n",
    "regression_model_mse = mean_squared_error(y_predict, y_test)\n",
    "\n",
    "regression_model_mse"
   ]
  },
  {
   "cell_type": "code",
   "execution_count": 41,
   "metadata": {},
   "outputs": [],
   "source": [
    "x_test2 =X_test.reset_index()"
   ]
  },
  {
   "cell_type": "code",
   "execution_count": 42,
   "metadata": {},
   "outputs": [],
   "source": [
    "x_test2.rename(columns={'index':'level_0'}, \n",
    "                 inplace=True)"
   ]
  },
  {
   "cell_type": "code",
   "execution_count": 43,
   "metadata": {},
   "outputs": [
    {
     "data": {
      "text/html": [
       "<div>\n",
       "<style scoped>\n",
       "    .dataframe tbody tr th:only-of-type {\n",
       "        vertical-align: middle;\n",
       "    }\n",
       "\n",
       "    .dataframe tbody tr th {\n",
       "        vertical-align: top;\n",
       "    }\n",
       "\n",
       "    .dataframe thead th {\n",
       "        text-align: right;\n",
       "    }\n",
       "</style>\n",
       "<table border=\"1\" class=\"dataframe\">\n",
       "  <thead>\n",
       "    <tr style=\"text-align: right;\">\n",
       "      <th></th>\n",
       "      <th>level_0</th>\n",
       "      <th>0</th>\n",
       "      <th>1</th>\n",
       "      <th>2</th>\n",
       "      <th>3</th>\n",
       "      <th>4</th>\n",
       "      <th>5</th>\n",
       "      <th>6</th>\n",
       "      <th>7</th>\n",
       "      <th>8</th>\n",
       "      <th>...</th>\n",
       "      <th>3339</th>\n",
       "      <th>3340</th>\n",
       "      <th>3341</th>\n",
       "      <th>3342</th>\n",
       "      <th>3343</th>\n",
       "      <th>3344</th>\n",
       "      <th>3345</th>\n",
       "      <th>3346</th>\n",
       "      <th>3347</th>\n",
       "      <th>3348</th>\n",
       "    </tr>\n",
       "  </thead>\n",
       "  <tbody>\n",
       "    <tr>\n",
       "      <th>0</th>\n",
       "      <td>496</td>\n",
       "      <td>0.0</td>\n",
       "      <td>0.0</td>\n",
       "      <td>0.0</td>\n",
       "      <td>0.0</td>\n",
       "      <td>0.0</td>\n",
       "      <td>0.0</td>\n",
       "      <td>0.0</td>\n",
       "      <td>0.0</td>\n",
       "      <td>0.0</td>\n",
       "      <td>...</td>\n",
       "      <td>0.0</td>\n",
       "      <td>0.0</td>\n",
       "      <td>0.0</td>\n",
       "      <td>0.0</td>\n",
       "      <td>0.0</td>\n",
       "      <td>0.0</td>\n",
       "      <td>0.0</td>\n",
       "      <td>0.0</td>\n",
       "      <td>0.0</td>\n",
       "      <td>0.0</td>\n",
       "    </tr>\n",
       "    <tr>\n",
       "      <th>1</th>\n",
       "      <td>107</td>\n",
       "      <td>0.0</td>\n",
       "      <td>0.0</td>\n",
       "      <td>0.0</td>\n",
       "      <td>0.0</td>\n",
       "      <td>0.0</td>\n",
       "      <td>0.0</td>\n",
       "      <td>0.0</td>\n",
       "      <td>0.0</td>\n",
       "      <td>0.0</td>\n",
       "      <td>...</td>\n",
       "      <td>0.0</td>\n",
       "      <td>0.0</td>\n",
       "      <td>0.0</td>\n",
       "      <td>0.0</td>\n",
       "      <td>0.0</td>\n",
       "      <td>0.0</td>\n",
       "      <td>0.0</td>\n",
       "      <td>0.0</td>\n",
       "      <td>0.0</td>\n",
       "      <td>0.0</td>\n",
       "    </tr>\n",
       "    <tr>\n",
       "      <th>2</th>\n",
       "      <td>66</td>\n",
       "      <td>0.0</td>\n",
       "      <td>0.0</td>\n",
       "      <td>0.0</td>\n",
       "      <td>0.0</td>\n",
       "      <td>0.0</td>\n",
       "      <td>0.0</td>\n",
       "      <td>0.0</td>\n",
       "      <td>0.0</td>\n",
       "      <td>0.0</td>\n",
       "      <td>...</td>\n",
       "      <td>0.0</td>\n",
       "      <td>0.0</td>\n",
       "      <td>0.0</td>\n",
       "      <td>0.0</td>\n",
       "      <td>0.0</td>\n",
       "      <td>0.0</td>\n",
       "      <td>0.0</td>\n",
       "      <td>0.0</td>\n",
       "      <td>0.0</td>\n",
       "      <td>0.0</td>\n",
       "    </tr>\n",
       "    <tr>\n",
       "      <th>3</th>\n",
       "      <td>159</td>\n",
       "      <td>0.0</td>\n",
       "      <td>0.0</td>\n",
       "      <td>0.0</td>\n",
       "      <td>0.0</td>\n",
       "      <td>0.0</td>\n",
       "      <td>0.0</td>\n",
       "      <td>0.0</td>\n",
       "      <td>0.0</td>\n",
       "      <td>0.0</td>\n",
       "      <td>...</td>\n",
       "      <td>0.0</td>\n",
       "      <td>0.0</td>\n",
       "      <td>0.0</td>\n",
       "      <td>0.0</td>\n",
       "      <td>0.0</td>\n",
       "      <td>0.0</td>\n",
       "      <td>0.0</td>\n",
       "      <td>0.0</td>\n",
       "      <td>0.0</td>\n",
       "      <td>0.0</td>\n",
       "    </tr>\n",
       "    <tr>\n",
       "      <th>4</th>\n",
       "      <td>511</td>\n",
       "      <td>0.0</td>\n",
       "      <td>0.0</td>\n",
       "      <td>0.0</td>\n",
       "      <td>0.0</td>\n",
       "      <td>0.0</td>\n",
       "      <td>0.0</td>\n",
       "      <td>0.0</td>\n",
       "      <td>0.0</td>\n",
       "      <td>0.0</td>\n",
       "      <td>...</td>\n",
       "      <td>0.0</td>\n",
       "      <td>0.0</td>\n",
       "      <td>0.0</td>\n",
       "      <td>0.0</td>\n",
       "      <td>0.0</td>\n",
       "      <td>0.0</td>\n",
       "      <td>0.0</td>\n",
       "      <td>0.0</td>\n",
       "      <td>0.0</td>\n",
       "      <td>0.0</td>\n",
       "    </tr>\n",
       "  </tbody>\n",
       "</table>\n",
       "<p>5 rows × 3350 columns</p>\n",
       "</div>"
      ],
      "text/plain": [
       "   level_0    0    1    2    3    4    5    6    7    8  ...  3339  3340  \\\n",
       "0      496  0.0  0.0  0.0  0.0  0.0  0.0  0.0  0.0  0.0  ...   0.0   0.0   \n",
       "1      107  0.0  0.0  0.0  0.0  0.0  0.0  0.0  0.0  0.0  ...   0.0   0.0   \n",
       "2       66  0.0  0.0  0.0  0.0  0.0  0.0  0.0  0.0  0.0  ...   0.0   0.0   \n",
       "3      159  0.0  0.0  0.0  0.0  0.0  0.0  0.0  0.0  0.0  ...   0.0   0.0   \n",
       "4      511  0.0  0.0  0.0  0.0  0.0  0.0  0.0  0.0  0.0  ...   0.0   0.0   \n",
       "\n",
       "   3341  3342  3343  3344  3345  3346  3347  3348  \n",
       "0   0.0   0.0   0.0   0.0   0.0   0.0   0.0   0.0  \n",
       "1   0.0   0.0   0.0   0.0   0.0   0.0   0.0   0.0  \n",
       "2   0.0   0.0   0.0   0.0   0.0   0.0   0.0   0.0  \n",
       "3   0.0   0.0   0.0   0.0   0.0   0.0   0.0   0.0  \n",
       "4   0.0   0.0   0.0   0.0   0.0   0.0   0.0   0.0  \n",
       "\n",
       "[5 rows x 3350 columns]"
      ]
     },
     "execution_count": 43,
     "metadata": {},
     "output_type": "execute_result"
    }
   ],
   "source": [
    "x_test2.head()"
   ]
  },
  {
   "cell_type": "markdown",
   "metadata": {},
   "source": [
    "### Comparing headlines and linear regression model predictions "
   ]
  },
  {
   "cell_type": "code",
   "execution_count": 49,
   "metadata": {},
   "outputs": [
    {
     "data": {
      "text/html": [
       "<div>\n",
       "<style scoped>\n",
       "    .dataframe tbody tr th:only-of-type {\n",
       "        vertical-align: middle;\n",
       "    }\n",
       "\n",
       "    .dataframe tbody tr th {\n",
       "        vertical-align: top;\n",
       "    }\n",
       "\n",
       "    .dataframe thead th {\n",
       "        text-align: right;\n",
       "    }\n",
       "</style>\n",
       "<table border=\"1\" class=\"dataframe\">\n",
       "  <thead>\n",
       "    <tr style=\"text-align: right;\">\n",
       "      <th></th>\n",
       "      <th>headline</th>\n",
       "      <th>0</th>\n",
       "      <th>1</th>\n",
       "      <th>2</th>\n",
       "      <th>3</th>\n",
       "      <th>4</th>\n",
       "      <th>5</th>\n",
       "      <th>6</th>\n",
       "      <th>7</th>\n",
       "      <th>8</th>\n",
       "      <th>9</th>\n",
       "    </tr>\n",
       "  </thead>\n",
       "  <tbody>\n",
       "    <tr>\n",
       "      <th>0</th>\n",
       "      <td>The Rohingya in Myanmar: How Years of Strife G...</td>\n",
       "      <td>-0.028614</td>\n",
       "      <td>0.191259</td>\n",
       "      <td>0.021091</td>\n",
       "      <td>0.151993</td>\n",
       "      <td>0.152596</td>\n",
       "      <td>0.426010</td>\n",
       "      <td>-0.014197</td>\n",
       "      <td>0.455976</td>\n",
       "      <td>0.218503</td>\n",
       "      <td>1.012764</td>\n",
       "    </tr>\n",
       "    <tr>\n",
       "      <th>1</th>\n",
       "      <td>Caitlin Henningsen, Russell Rennie</td>\n",
       "      <td>0.105729</td>\n",
       "      <td>0.072688</td>\n",
       "      <td>0.108860</td>\n",
       "      <td>0.037943</td>\n",
       "      <td>0.071093</td>\n",
       "      <td>0.330176</td>\n",
       "      <td>0.057603</td>\n",
       "      <td>0.093333</td>\n",
       "      <td>0.273276</td>\n",
       "      <td>0.972976</td>\n",
       "    </tr>\n",
       "    <tr>\n",
       "      <th>2</th>\n",
       "      <td>Angela Merkel Declared Winner of German Electi...</td>\n",
       "      <td>0.080571</td>\n",
       "      <td>0.052986</td>\n",
       "      <td>0.101788</td>\n",
       "      <td>-0.019616</td>\n",
       "      <td>0.197057</td>\n",
       "      <td>0.389021</td>\n",
       "      <td>0.000706</td>\n",
       "      <td>-0.006167</td>\n",
       "      <td>0.271794</td>\n",
       "      <td>0.989934</td>\n",
       "    </tr>\n",
       "    <tr>\n",
       "      <th>3</th>\n",
       "      <td>Dozens Feared Dead in Fire at Philippines Mall</td>\n",
       "      <td>0.079687</td>\n",
       "      <td>0.159288</td>\n",
       "      <td>0.009320</td>\n",
       "      <td>0.122406</td>\n",
       "      <td>-0.018139</td>\n",
       "      <td>0.239737</td>\n",
       "      <td>0.082647</td>\n",
       "      <td>0.372581</td>\n",
       "      <td>0.111787</td>\n",
       "      <td>0.952058</td>\n",
       "    </tr>\n",
       "    <tr>\n",
       "      <th>4</th>\n",
       "      <td>Tina Howe Copes With Caregiving and Other Late...</td>\n",
       "      <td>0.025736</td>\n",
       "      <td>0.012118</td>\n",
       "      <td>0.145201</td>\n",
       "      <td>0.074175</td>\n",
       "      <td>0.107978</td>\n",
       "      <td>0.315555</td>\n",
       "      <td>0.041515</td>\n",
       "      <td>0.145940</td>\n",
       "      <td>0.269203</td>\n",
       "      <td>1.024831</td>\n",
       "    </tr>\n",
       "  </tbody>\n",
       "</table>\n",
       "</div>"
      ],
      "text/plain": [
       "                                            headline         0         1  \\\n",
       "0  The Rohingya in Myanmar: How Years of Strife G... -0.028614  0.191259   \n",
       "1                 Caitlin Henningsen, Russell Rennie  0.105729  0.072688   \n",
       "2  Angela Merkel Declared Winner of German Electi...  0.080571  0.052986   \n",
       "3     Dozens Feared Dead in Fire at Philippines Mall  0.079687  0.159288   \n",
       "4  Tina Howe Copes With Caregiving and Other Late...  0.025736  0.012118   \n",
       "\n",
       "          2         3         4         5         6         7         8  \\\n",
       "0  0.021091  0.151993  0.152596  0.426010 -0.014197  0.455976  0.218503   \n",
       "1  0.108860  0.037943  0.071093  0.330176  0.057603  0.093333  0.273276   \n",
       "2  0.101788 -0.019616  0.197057  0.389021  0.000706 -0.006167  0.271794   \n",
       "3  0.009320  0.122406 -0.018139  0.239737  0.082647  0.372581  0.111787   \n",
       "4  0.145201  0.074175  0.107978  0.315555  0.041515  0.145940  0.269203   \n",
       "\n",
       "          9  \n",
       "0  1.012764  \n",
       "1  0.972976  \n",
       "2  0.989934  \n",
       "3  0.952058  \n",
       "4  1.024831  "
      ]
     },
     "execution_count": 49,
     "metadata": {},
     "output_type": "execute_result"
    }
   ],
   "source": [
    "sanity2 = pd.concat([sanity, pd.DataFrame(y_predict)], axis=1)\n",
    "sanity2.iloc[:,3350:3361].head()"
   ]
  },
  {
   "cell_type": "code",
   "execution_count": 46,
   "metadata": {},
   "outputs": [
    {
     "data": {
      "text/html": [
       "<div>\n",
       "<style scoped>\n",
       "    .dataframe tbody tr th:only-of-type {\n",
       "        vertical-align: middle;\n",
       "    }\n",
       "\n",
       "    .dataframe tbody tr th {\n",
       "        vertical-align: top;\n",
       "    }\n",
       "\n",
       "    .dataframe thead th {\n",
       "        text-align: right;\n",
       "    }\n",
       "</style>\n",
       "<table border=\"1\" class=\"dataframe\">\n",
       "  <thead>\n",
       "    <tr style=\"text-align: right;\">\n",
       "      <th></th>\n",
       "      <th>level_0</th>\n",
       "      <th>0</th>\n",
       "      <th>1</th>\n",
       "      <th>2</th>\n",
       "      <th>3</th>\n",
       "      <th>4</th>\n",
       "      <th>5</th>\n",
       "      <th>6</th>\n",
       "      <th>7</th>\n",
       "      <th>8</th>\n",
       "      <th>...</th>\n",
       "      <th>3340</th>\n",
       "      <th>3341</th>\n",
       "      <th>3342</th>\n",
       "      <th>3343</th>\n",
       "      <th>3344</th>\n",
       "      <th>3345</th>\n",
       "      <th>3346</th>\n",
       "      <th>3347</th>\n",
       "      <th>3348</th>\n",
       "      <th>headline</th>\n",
       "    </tr>\n",
       "  </thead>\n",
       "  <tbody>\n",
       "    <tr>\n",
       "      <th>0</th>\n",
       "      <td>496</td>\n",
       "      <td>0.0</td>\n",
       "      <td>0.0</td>\n",
       "      <td>0.0</td>\n",
       "      <td>0.0</td>\n",
       "      <td>0.0</td>\n",
       "      <td>0.0</td>\n",
       "      <td>0.0</td>\n",
       "      <td>0.0</td>\n",
       "      <td>0.0</td>\n",
       "      <td>...</td>\n",
       "      <td>0.0</td>\n",
       "      <td>0.0</td>\n",
       "      <td>0.0</td>\n",
       "      <td>0.0</td>\n",
       "      <td>0.0</td>\n",
       "      <td>0.0</td>\n",
       "      <td>0.0</td>\n",
       "      <td>0.0</td>\n",
       "      <td>0.0</td>\n",
       "      <td>The Rohingya in Myanmar: How Years of Strife G...</td>\n",
       "    </tr>\n",
       "    <tr>\n",
       "      <th>1</th>\n",
       "      <td>107</td>\n",
       "      <td>0.0</td>\n",
       "      <td>0.0</td>\n",
       "      <td>0.0</td>\n",
       "      <td>0.0</td>\n",
       "      <td>0.0</td>\n",
       "      <td>0.0</td>\n",
       "      <td>0.0</td>\n",
       "      <td>0.0</td>\n",
       "      <td>0.0</td>\n",
       "      <td>...</td>\n",
       "      <td>0.0</td>\n",
       "      <td>0.0</td>\n",
       "      <td>0.0</td>\n",
       "      <td>0.0</td>\n",
       "      <td>0.0</td>\n",
       "      <td>0.0</td>\n",
       "      <td>0.0</td>\n",
       "      <td>0.0</td>\n",
       "      <td>0.0</td>\n",
       "      <td>Caitlin Henningsen, Russell Rennie</td>\n",
       "    </tr>\n",
       "    <tr>\n",
       "      <th>2</th>\n",
       "      <td>66</td>\n",
       "      <td>0.0</td>\n",
       "      <td>0.0</td>\n",
       "      <td>0.0</td>\n",
       "      <td>0.0</td>\n",
       "      <td>0.0</td>\n",
       "      <td>0.0</td>\n",
       "      <td>0.0</td>\n",
       "      <td>0.0</td>\n",
       "      <td>0.0</td>\n",
       "      <td>...</td>\n",
       "      <td>0.0</td>\n",
       "      <td>0.0</td>\n",
       "      <td>0.0</td>\n",
       "      <td>0.0</td>\n",
       "      <td>0.0</td>\n",
       "      <td>0.0</td>\n",
       "      <td>0.0</td>\n",
       "      <td>0.0</td>\n",
       "      <td>0.0</td>\n",
       "      <td>Angela Merkel Declared Winner of German Electi...</td>\n",
       "    </tr>\n",
       "    <tr>\n",
       "      <th>3</th>\n",
       "      <td>159</td>\n",
       "      <td>0.0</td>\n",
       "      <td>0.0</td>\n",
       "      <td>0.0</td>\n",
       "      <td>0.0</td>\n",
       "      <td>0.0</td>\n",
       "      <td>0.0</td>\n",
       "      <td>0.0</td>\n",
       "      <td>0.0</td>\n",
       "      <td>0.0</td>\n",
       "      <td>...</td>\n",
       "      <td>0.0</td>\n",
       "      <td>0.0</td>\n",
       "      <td>0.0</td>\n",
       "      <td>0.0</td>\n",
       "      <td>0.0</td>\n",
       "      <td>0.0</td>\n",
       "      <td>0.0</td>\n",
       "      <td>0.0</td>\n",
       "      <td>0.0</td>\n",
       "      <td>Dozens Feared Dead in Fire at Philippines Mall</td>\n",
       "    </tr>\n",
       "    <tr>\n",
       "      <th>4</th>\n",
       "      <td>511</td>\n",
       "      <td>0.0</td>\n",
       "      <td>0.0</td>\n",
       "      <td>0.0</td>\n",
       "      <td>0.0</td>\n",
       "      <td>0.0</td>\n",
       "      <td>0.0</td>\n",
       "      <td>0.0</td>\n",
       "      <td>0.0</td>\n",
       "      <td>0.0</td>\n",
       "      <td>...</td>\n",
       "      <td>0.0</td>\n",
       "      <td>0.0</td>\n",
       "      <td>0.0</td>\n",
       "      <td>0.0</td>\n",
       "      <td>0.0</td>\n",
       "      <td>0.0</td>\n",
       "      <td>0.0</td>\n",
       "      <td>0.0</td>\n",
       "      <td>0.0</td>\n",
       "      <td>Tina Howe Copes With Caregiving and Other Late...</td>\n",
       "    </tr>\n",
       "  </tbody>\n",
       "</table>\n",
       "<p>5 rows × 3351 columns</p>\n",
       "</div>"
      ],
      "text/plain": [
       "   level_0    0    1    2    3    4    5    6    7    8  ...  3340  3341  \\\n",
       "0      496  0.0  0.0  0.0  0.0  0.0  0.0  0.0  0.0  0.0  ...   0.0   0.0   \n",
       "1      107  0.0  0.0  0.0  0.0  0.0  0.0  0.0  0.0  0.0  ...   0.0   0.0   \n",
       "2       66  0.0  0.0  0.0  0.0  0.0  0.0  0.0  0.0  0.0  ...   0.0   0.0   \n",
       "3      159  0.0  0.0  0.0  0.0  0.0  0.0  0.0  0.0  0.0  ...   0.0   0.0   \n",
       "4      511  0.0  0.0  0.0  0.0  0.0  0.0  0.0  0.0  0.0  ...   0.0   0.0   \n",
       "\n",
       "   3342  3343  3344  3345  3346  3347  3348  \\\n",
       "0   0.0   0.0   0.0   0.0   0.0   0.0   0.0   \n",
       "1   0.0   0.0   0.0   0.0   0.0   0.0   0.0   \n",
       "2   0.0   0.0   0.0   0.0   0.0   0.0   0.0   \n",
       "3   0.0   0.0   0.0   0.0   0.0   0.0   0.0   \n",
       "4   0.0   0.0   0.0   0.0   0.0   0.0   0.0   \n",
       "\n",
       "                                            headline  \n",
       "0  The Rohingya in Myanmar: How Years of Strife G...  \n",
       "1                 Caitlin Henningsen, Russell Rennie  \n",
       "2  Angela Merkel Declared Winner of German Electi...  \n",
       "3     Dozens Feared Dead in Fire at Philippines Mall  \n",
       "4  Tina Howe Copes With Caregiving and Other Late...  \n",
       "\n",
       "[5 rows x 3351 columns]"
      ]
     },
     "execution_count": 46,
     "metadata": {},
     "output_type": "execute_result"
    }
   ],
   "source": [
    "sanity = x_test2.merge(bow_w_headlines_ft_matrix2, on='level_0', how = 'inner')\n",
    "sanity.head()"
   ]
  },
  {
   "cell_type": "code",
   "execution_count": 45,
   "metadata": {},
   "outputs": [],
   "source": [
    "bow_w_headlines_ft_matrix2 = bow_w_headlines_ft_matrix.reset_index()\n",
    "bow_w_headlines_ft_matrix2 = bow_w_headlines_ft_matrix2[['level_0','headline']] "
   ]
  },
  {
   "cell_type": "code",
   "execution_count": 50,
   "metadata": {},
   "outputs": [
    {
     "data": {
      "text/plain": [
       "0.1536080029090478"
      ]
     },
     "execution_count": 50,
     "metadata": {},
     "output_type": "execute_result"
    }
   ],
   "source": [
    "import math\n",
    "\n",
    "math.sqrt(regression_model_mse)"
   ]
  },
  {
   "cell_type": "code",
   "execution_count": 51,
   "metadata": {},
   "outputs": [
    {
     "data": {
      "text/plain": [
       "u'Obesity Was Rising as Ghana Embraced Fast Food. Then Came KFC.'"
      ]
     },
     "execution_count": 51,
     "metadata": {},
     "output_type": "execute_result"
    }
   ],
   "source": [
    "data.headline.iloc[5000:5001,].reset_index().headline[0]"
   ]
  },
  {
   "cell_type": "code",
   "execution_count": 54,
   "metadata": {},
   "outputs": [
    {
     "name": "stdout",
     "output_type": "stream",
     "text": [
      "Obesity Was Rising as Ghana Embraced Fast Food. Then Came KFC. \n",
      "[0. 0. 0. ... 0. 0. 0.]\n",
      "\n"
     ]
    }
   ],
   "source": [
    "unseen_doc = []\n",
    "sentence = \"Obesity Was Rising as Ghana Embraced Fast Food. Then Came KFC.\"\n",
    "words = word_extraction(sentence)\n",
    "bag_vector_sample = numpy.zeros(len(vocab))\n",
    "for w in words:\n",
    "    for i,word in enumerate(vocab):\n",
    "                if word == w: \n",
    "                    bag_vector_sample[i] += 1\n",
    "                    \n",
    "print(\"{0} \\n{1}\\n\".format(sentence,numpy.array(bag_vector_sample)))\n",
    "unseen_doc.append(numpy.array(bag_vector_sample))\n",
    "unseen_doc = pd.DataFrame(unseen_doc)"
   ]
  },
  {
   "cell_type": "code",
   "execution_count": 55,
   "metadata": {},
   "outputs": [
    {
     "name": "stdout",
     "output_type": "stream",
     "text": [
      "emotion_0 :  0.200272218448\n",
      "emotion_1 :  0.0841800243889\n",
      "emotion_2 :  0.0736660560588\n",
      "emotion_3 :  0.0596826461061\n",
      "emotion_4 :  0.0668950896335\n",
      "emotion_5 :  0.197489272146\n",
      "emotion_6 :  0.127773610976\n",
      "emotion_7 :  0.00309720922604\n",
      "emotion_8 :  0.315987600438\n",
      "emotion_9 :  0.991675806327\n"
     ]
    }
   ],
   "source": [
    "for i in range(len(y.columns.tolist())):\n",
    "    print y.columns.tolist()[i], \": \", regression_model.predict(unseen_doc).tolist()[0][i]"
   ]
  },
  {
   "cell_type": "markdown",
   "metadata": {},
   "source": [
    "## Predictions on Random Forest Regressor & KNN Regressor "
   ]
  },
  {
   "cell_type": "code",
   "execution_count": 73,
   "metadata": {},
   "outputs": [],
   "source": [
    "from sklearn.ensemble import RandomForestRegressor\n",
    "from sklearn.neighbors import KNeighborsRegressor\n",
    "from sklearn.model_selection import train_test_split\n",
    "\n",
    "\n",
    "X_train, X_test, y_train, y_test = train_test_split(X, y, test_size = 0.2, random_state = 10)\n",
    "\n",
    "rf = RandomForestRegressor(n_estimators=100, random_state=10)\n",
    "knn = KNeighborsRegressor()\n",
    "preds = {}\n",
    "for model_name, model in zip(['RandomForestRegressor', 'KNearestNeighbors'], [rf, knn]):\n",
    "    model.fit(X_train, y_train)\n",
    "    preds[model_name] = model.predict(X_test)"
   ]
  },
  {
   "cell_type": "code",
   "execution_count": 74,
   "metadata": {},
   "outputs": [
    {
     "name": "stdout",
     "output_type": "stream",
     "text": [
      "KNearestNeighbors performance:\n",
      "('Mean Absolute Error:', 0.1050682730641888)\n",
      "('Mean Squared Error:', 0.021858531106878996)\n",
      "('Root Mean Squared Error:', 0.14784630907425114)\n",
      " \n",
      "RandomForestRegressor performance:\n",
      "('Mean Absolute Error:', 0.10012406890983001)\n",
      "('Mean Squared Error:', 0.020903782940572626)\n",
      "('Root Mean Squared Error:', 0.14458140592957527)\n",
      " \n"
     ]
    }
   ],
   "source": [
    "# Evaluating the Algorithm\n",
    "from sklearn import metrics\n",
    "for k in preds:\n",
    "    print(\"{} performance:\".format(k))\n",
    "    print('Mean Absolute Error:', metrics.mean_absolute_error(y_test, preds[k]))  \n",
    "    print('Mean Squared Error:', metrics.mean_squared_error(y_test, preds[k]))  \n",
    "    print('Root Mean Squared Error:', np.sqrt(metrics.mean_squared_error(y_test, preds[k])))\n",
    "    print \" \"\n"
   ]
  },
  {
   "cell_type": "code",
   "execution_count": 75,
   "metadata": {},
   "outputs": [
    {
     "data": {
      "text/plain": [
       "(93758, 13)"
      ]
     },
     "execution_count": 75,
     "metadata": {},
     "output_type": "execute_result"
    }
   ],
   "source": [
    "data.shape"
   ]
  },
  {
   "cell_type": "code",
   "execution_count": 78,
   "metadata": {},
   "outputs": [],
   "source": [
    "sample = np.random.randint(50000,93758)"
   ]
  },
  {
   "cell_type": "code",
   "execution_count": 90,
   "metadata": {},
   "outputs": [
    {
     "data": {
      "text/plain": [
       "'11 Powerful Women We Met Around the World in 2017'"
      ]
     },
     "execution_count": 90,
     "metadata": {},
     "output_type": "execute_result"
    }
   ],
   "source": [
    "str(data.headline.iloc[sample:sample+1,].reset_index().headline[0])"
   ]
  },
  {
   "cell_type": "code",
   "execution_count": 91,
   "metadata": {},
   "outputs": [
    {
     "name": "stdout",
     "output_type": "stream",
     "text": [
      "11 Powerful Women We Met Around the World in 2017 \n",
      "[0. 0. 0. ... 0. 0. 0.]\n",
      "\n"
     ]
    }
   ],
   "source": [
    "unseen_doc = []\n",
    "sentence = str(data.headline.iloc[sample:sample+1,].reset_index().headline[0])\n",
    "words = word_extraction(sentence)\n",
    "bag_vector_sample = numpy.zeros(len(vocab))\n",
    "for w in words:\n",
    "    for i,word in enumerate(vocab):\n",
    "                if word == w: \n",
    "                    bag_vector_sample[i] += 1\n",
    "                    \n",
    "print(\"{0} \\n{1}\\n\".format(sentence,numpy.array(bag_vector_sample)))\n",
    "unseen_doc.append(numpy.array(bag_vector_sample))\n",
    "unseen_doc = pd.DataFrame(unseen_doc)"
   ]
  },
  {
   "cell_type": "code",
   "execution_count": 92,
   "metadata": {},
   "outputs": [
    {
     "name": "stdout",
     "output_type": "stream",
     "text": [
      "emotion_0 :  0.119060494705\n",
      "emotion_1 :  0.0167655286866\n",
      "emotion_2 :  0.0792426110321\n",
      "emotion_3 :  0.0281758337285\n",
      "emotion_4 :  0.14484107792\n",
      "emotion_5 :  0.388476963806\n",
      "emotion_6 :  0.0172055476529\n",
      "emotion_7 :  0.0787725225225\n",
      "emotion_8 :  0.308666311048\n",
      "emotion_9 :  0.995010589537\n"
     ]
    }
   ],
   "source": [
    "for i in range(len(y.columns.tolist())):\n",
    "    print y.columns.tolist()[i], \": \", rfc.predict(unseen_doc).tolist()[0][i]"
   ]
  },
  {
   "cell_type": "code",
   "execution_count": 93,
   "metadata": {},
   "outputs": [
    {
     "name": "stdout",
     "output_type": "stream",
     "text": [
      "emotion_0 :  0.110955712663\n",
      "emotion_1 :  0.0997498302639\n",
      "emotion_2 :  0.071455697698\n",
      "emotion_3 :  0.118831554058\n",
      "emotion_4 :  0.0762347887317\n",
      "emotion_5 :  0.376408210974\n",
      "emotion_6 :  0.0202768864336\n",
      "emotion_7 :  0.136714137638\n",
      "emotion_8 :  0.214354451496\n",
      "emotion_9 :  0.987406345846\n"
     ]
    }
   ],
   "source": [
    "for i in range(len(y.columns.tolist())):\n",
    "    print y.columns.tolist()[i], \": \", knn.predict(unseen_doc).tolist()[0][i]"
   ]
  },
  {
   "cell_type": "code",
   "execution_count": 142,
   "metadata": {},
   "outputs": [],
   "source": [
    "dict1 = []\n",
    "for i in range(len(y.columns.tolist())):\n",
    "    dict1.append(str(y.columns.tolist()[i]) + \",\"+ str(regression_model.predict(unseen_doc).tolist()[0][i]))"
   ]
  },
  {
   "cell_type": "code",
   "execution_count": 152,
   "metadata": {},
   "outputs": [],
   "source": [
    "dict2 = pd.DataFrame(dict1)\n",
    "dict2\n",
    "dict2 = dict2[0].str.split(\",\" ,expand=True)"
   ]
  },
  {
   "cell_type": "markdown",
   "metadata": {},
   "source": [
    "\n",
    "#### Linear Regression Model: \n",
    "0.02359541855770604\n",
    "#### KNN : \n",
    "0.021858531106878996\n",
    "#### Random Forest Regressor: \n",
    "0.020903782940572626"
   ]
  },
  {
   "cell_type": "code",
   "execution_count": null,
   "metadata": {},
   "outputs": [],
   "source": []
  }
 ],
 "metadata": {
  "kernelspec": {
   "display_name": "Python 2",
   "language": "python",
   "name": "python2"
  },
  "language_info": {
   "codemirror_mode": {
    "name": "ipython",
    "version": 2
   },
   "file_extension": ".py",
   "mimetype": "text/x-python",
   "name": "python",
   "nbconvert_exporter": "python",
   "pygments_lexer": "ipython2",
   "version": "2.7.14"
  }
 },
 "nbformat": 4,
 "nbformat_minor": 2
}
